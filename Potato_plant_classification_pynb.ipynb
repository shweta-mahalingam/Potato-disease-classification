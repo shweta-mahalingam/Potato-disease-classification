{
  "cells": [
    {
      "cell_type": "markdown",
      "metadata": {
        "id": "view-in-github",
        "colab_type": "text"
      },
      "source": [
        "<a href=\"https://colab.research.google.com/github/shweta-mahalingam/Potato-disease-classification/blob/main/Potato_plant_classification_pynb.ipynb\" target=\"_parent\"><img src=\"https://colab.research.google.com/assets/colab-badge.svg\" alt=\"Open In Colab\"/></a>"
      ]
    },
    {
      "cell_type": "code",
      "execution_count": null,
      "metadata": {
        "id": "911XDIsqsmlo"
      },
      "outputs": [],
      "source": [
        "import tensorflow as tf\n",
        "import matplotlib.pyplot as plt\n",
        "from tensorflow.keras import models, layers"
      ]
    },
    {
      "cell_type": "code",
      "execution_count": null,
      "metadata": {
        "colab": {
          "base_uri": "https://localhost:8080/",
          "height": 73
        },
        "id": "P-Qf7IT4bBl2",
        "outputId": "ed240793-a100-4ad6-fd1e-c53da004cf2e"
      },
      "outputs": [
        {
          "data": {
            "text/html": [
              "\n",
              "     <input type=\"file\" id=\"files-5a9cfe38-5df0-42a3-8b27-442f6a563e6b\" name=\"files[]\" multiple disabled\n",
              "        style=\"border:none\" />\n",
              "     <output id=\"result-5a9cfe38-5df0-42a3-8b27-442f6a563e6b\">\n",
              "      Upload widget is only available when the cell has been executed in the\n",
              "      current browser session. Please rerun this cell to enable.\n",
              "      </output>\n",
              "      <script>// Copyright 2017 Google LLC\n",
              "//\n",
              "// Licensed under the Apache License, Version 2.0 (the \"License\");\n",
              "// you may not use this file except in compliance with the License.\n",
              "// You may obtain a copy of the License at\n",
              "//\n",
              "//      http://www.apache.org/licenses/LICENSE-2.0\n",
              "//\n",
              "// Unless required by applicable law or agreed to in writing, software\n",
              "// distributed under the License is distributed on an \"AS IS\" BASIS,\n",
              "// WITHOUT WARRANTIES OR CONDITIONS OF ANY KIND, either express or implied.\n",
              "// See the License for the specific language governing permissions and\n",
              "// limitations under the License.\n",
              "\n",
              "/**\n",
              " * @fileoverview Helpers for google.colab Python module.\n",
              " */\n",
              "(function(scope) {\n",
              "function span(text, styleAttributes = {}) {\n",
              "  const element = document.createElement('span');\n",
              "  element.textContent = text;\n",
              "  for (const key of Object.keys(styleAttributes)) {\n",
              "    element.style[key] = styleAttributes[key];\n",
              "  }\n",
              "  return element;\n",
              "}\n",
              "\n",
              "// Max number of bytes which will be uploaded at a time.\n",
              "const MAX_PAYLOAD_SIZE = 100 * 1024;\n",
              "\n",
              "function _uploadFiles(inputId, outputId) {\n",
              "  const steps = uploadFilesStep(inputId, outputId);\n",
              "  const outputElement = document.getElementById(outputId);\n",
              "  // Cache steps on the outputElement to make it available for the next call\n",
              "  // to uploadFilesContinue from Python.\n",
              "  outputElement.steps = steps;\n",
              "\n",
              "  return _uploadFilesContinue(outputId);\n",
              "}\n",
              "\n",
              "// This is roughly an async generator (not supported in the browser yet),\n",
              "// where there are multiple asynchronous steps and the Python side is going\n",
              "// to poll for completion of each step.\n",
              "// This uses a Promise to block the python side on completion of each step,\n",
              "// then passes the result of the previous step as the input to the next step.\n",
              "function _uploadFilesContinue(outputId) {\n",
              "  const outputElement = document.getElementById(outputId);\n",
              "  const steps = outputElement.steps;\n",
              "\n",
              "  const next = steps.next(outputElement.lastPromiseValue);\n",
              "  return Promise.resolve(next.value.promise).then((value) => {\n",
              "    // Cache the last promise value to make it available to the next\n",
              "    // step of the generator.\n",
              "    outputElement.lastPromiseValue = value;\n",
              "    return next.value.response;\n",
              "  });\n",
              "}\n",
              "\n",
              "/**\n",
              " * Generator function which is called between each async step of the upload\n",
              " * process.\n",
              " * @param {string} inputId Element ID of the input file picker element.\n",
              " * @param {string} outputId Element ID of the output display.\n",
              " * @return {!Iterable<!Object>} Iterable of next steps.\n",
              " */\n",
              "function* uploadFilesStep(inputId, outputId) {\n",
              "  const inputElement = document.getElementById(inputId);\n",
              "  inputElement.disabled = false;\n",
              "\n",
              "  const outputElement = document.getElementById(outputId);\n",
              "  outputElement.innerHTML = '';\n",
              "\n",
              "  const pickedPromise = new Promise((resolve) => {\n",
              "    inputElement.addEventListener('change', (e) => {\n",
              "      resolve(e.target.files);\n",
              "    });\n",
              "  });\n",
              "\n",
              "  const cancel = document.createElement('button');\n",
              "  inputElement.parentElement.appendChild(cancel);\n",
              "  cancel.textContent = 'Cancel upload';\n",
              "  const cancelPromise = new Promise((resolve) => {\n",
              "    cancel.onclick = () => {\n",
              "      resolve(null);\n",
              "    };\n",
              "  });\n",
              "\n",
              "  // Wait for the user to pick the files.\n",
              "  const files = yield {\n",
              "    promise: Promise.race([pickedPromise, cancelPromise]),\n",
              "    response: {\n",
              "      action: 'starting',\n",
              "    }\n",
              "  };\n",
              "\n",
              "  cancel.remove();\n",
              "\n",
              "  // Disable the input element since further picks are not allowed.\n",
              "  inputElement.disabled = true;\n",
              "\n",
              "  if (!files) {\n",
              "    return {\n",
              "      response: {\n",
              "        action: 'complete',\n",
              "      }\n",
              "    };\n",
              "  }\n",
              "\n",
              "  for (const file of files) {\n",
              "    const li = document.createElement('li');\n",
              "    li.append(span(file.name, {fontWeight: 'bold'}));\n",
              "    li.append(span(\n",
              "        `(${file.type || 'n/a'}) - ${file.size} bytes, ` +\n",
              "        `last modified: ${\n",
              "            file.lastModifiedDate ? file.lastModifiedDate.toLocaleDateString() :\n",
              "                                    'n/a'} - `));\n",
              "    const percent = span('0% done');\n",
              "    li.appendChild(percent);\n",
              "\n",
              "    outputElement.appendChild(li);\n",
              "\n",
              "    const fileDataPromise = new Promise((resolve) => {\n",
              "      const reader = new FileReader();\n",
              "      reader.onload = (e) => {\n",
              "        resolve(e.target.result);\n",
              "      };\n",
              "      reader.readAsArrayBuffer(file);\n",
              "    });\n",
              "    // Wait for the data to be ready.\n",
              "    let fileData = yield {\n",
              "      promise: fileDataPromise,\n",
              "      response: {\n",
              "        action: 'continue',\n",
              "      }\n",
              "    };\n",
              "\n",
              "    // Use a chunked sending to avoid message size limits. See b/62115660.\n",
              "    let position = 0;\n",
              "    do {\n",
              "      const length = Math.min(fileData.byteLength - position, MAX_PAYLOAD_SIZE);\n",
              "      const chunk = new Uint8Array(fileData, position, length);\n",
              "      position += length;\n",
              "\n",
              "      const base64 = btoa(String.fromCharCode.apply(null, chunk));\n",
              "      yield {\n",
              "        response: {\n",
              "          action: 'append',\n",
              "          file: file.name,\n",
              "          data: base64,\n",
              "        },\n",
              "      };\n",
              "\n",
              "      let percentDone = fileData.byteLength === 0 ?\n",
              "          100 :\n",
              "          Math.round((position / fileData.byteLength) * 100);\n",
              "      percent.textContent = `${percentDone}% done`;\n",
              "\n",
              "    } while (position < fileData.byteLength);\n",
              "  }\n",
              "\n",
              "  // All done.\n",
              "  yield {\n",
              "    response: {\n",
              "      action: 'complete',\n",
              "    }\n",
              "  };\n",
              "}\n",
              "\n",
              "scope.google = scope.google || {};\n",
              "scope.google.colab = scope.google.colab || {};\n",
              "scope.google.colab._files = {\n",
              "  _uploadFiles,\n",
              "  _uploadFilesContinue,\n",
              "};\n",
              "})(self);\n",
              "</script> "
            ],
            "text/plain": [
              "<IPython.core.display.HTML object>"
            ]
          },
          "metadata": {},
          "output_type": "display_data"
        },
        {
          "name": "stdout",
          "output_type": "stream",
          "text": [
            "Saving archive(1).zip to archive(1).zip\n"
          ]
        }
      ],
      "source": [
        "from google.colab import files\n",
        "uploaded = files.upload()"
      ]
    },
    {
      "cell_type": "code",
      "execution_count": null,
      "metadata": {
        "id": "SG5fkkcUZ4Zu"
      },
      "outputs": [],
      "source": [
        "import zipfile\n",
        "import os"
      ]
    },
    {
      "cell_type": "code",
      "execution_count": null,
      "metadata": {
        "colab": {
          "base_uri": "https://localhost:8080/"
        },
        "id": "0prdgH6aaMK-",
        "outputId": "0aa35b67-01b5-46d6-82a0-dfdc6041bdaf"
      },
      "outputs": [
        {
          "name": "stdout",
          "output_type": "stream",
          "text": [
            "Files extracted:\n",
            "['.config', 'Potato Plant Disease', 'archive(1).zip', 'drive', 'sample_data']\n"
          ]
        }
      ],
      "source": [
        "file_name = \"archive(1).zip\"\n",
        "with zipfile.ZipFile(file_name, 'r') as zip_ref:\n",
        "    zip_ref.extractall(\"/content\")\n",
        "\n",
        "os.listdir(\"/content\")\n",
        "print(\"Files extracted:\")\n",
        "print(os.listdir(\"/content\"))"
      ]
    },
    {
      "cell_type": "code",
      "execution_count": null,
      "metadata": {
        "id": "ZeqUSiCt3iGd"
      },
      "outputs": [],
      "source": [
        "IMAGE_SIZE = 256\n",
        "BATCH_SIZE = 32\n",
        "CHANNELS = 3\n",
        "EPOCHS = 50"
      ]
    },
    {
      "cell_type": "code",
      "execution_count": null,
      "metadata": {
        "colab": {
          "base_uri": "https://localhost:8080/"
        },
        "id": "WLIUbKrZaHIN",
        "outputId": "bfe0b955-93b1-4e19-eccf-84171ebee247"
      },
      "outputs": [
        {
          "name": "stdout",
          "output_type": "stream",
          "text": [
            "Found 2152 files belonging to 3 classes.\n"
          ]
        }
      ],
      "source": [
        "  dataset = tf.keras.preprocessing.image_dataset_from_directory(\n",
        "      \"Potato Plant Disease\",\n",
        "      shuffle = True,\n",
        "      image_size = (IMAGE_SIZE,IMAGE_SIZE),\n",
        "      batch_size = BATCH_SIZE\n",
        "  )"
      ]
    },
    {
      "cell_type": "code",
      "execution_count": null,
      "metadata": {
        "colab": {
          "base_uri": "https://localhost:8080/"
        },
        "id": "2rbjljOL4F6y",
        "outputId": "7f77a5c8-1de8-4e13-818a-0cfa0dfcd19e"
      },
      "outputs": [
        {
          "data": {
            "text/plain": [
              "['Potato___Early_blight', 'Potato___Late_blight', 'Potato___healthy']"
            ]
          },
          "execution_count": 7,
          "metadata": {},
          "output_type": "execute_result"
        }
      ],
      "source": [
        "class_name = dataset.class_names\n",
        "class_name"
      ]
    },
    {
      "cell_type": "code",
      "execution_count": null,
      "metadata": {
        "colab": {
          "base_uri": "https://localhost:8080/"
        },
        "id": "5_P3OfJh4JEU",
        "outputId": "1a488c22-f520-4b67-d847-80908ce660a9"
      },
      "outputs": [
        {
          "name": "stdout",
          "output_type": "stream",
          "text": [
            "(32, 256, 256, 3)\n",
            "32\n"
          ]
        }
      ],
      "source": [
        "for image_batch,label_batch in dataset.take(1):\n",
        "  print(image_batch.shape)\n",
        "  print(len(label_batch.numpy()))"
      ]
    },
    {
      "cell_type": "code",
      "execution_count": null,
      "metadata": {
        "id": "dgdKJXju5cGy"
      },
      "outputs": [],
      "source": [
        "plt.figure(figsize=(10,10))\n",
        "for image_batch,label_batch in dataset.take(1):\n",
        "  for i in range(12):\n",
        "    ax = plt.subplot(3,4,i+1)\n",
        "    plt.imshow(image_batch[i].numpy().astype(\"uint8\"))\n",
        "    plt.axis(\"off\")\n",
        "    plt.title(class_name[label_batch[i]])"
      ]
    },
    {
      "cell_type": "code",
      "execution_count": null,
      "metadata": {
        "colab": {
          "base_uri": "https://localhost:8080/"
        },
        "id": "O4lO2zEg6B7l",
        "outputId": "5b89faa2-a0f8-4949-de20-9133ad1c5250"
      },
      "outputs": [
        {
          "data": {
            "text/plain": [
              "68"
            ]
          },
          "execution_count": 9,
          "metadata": {},
          "output_type": "execute_result"
        }
      ],
      "source": [
        "len(dataset)"
      ]
    },
    {
      "cell_type": "code",
      "execution_count": null,
      "metadata": {
        "id": "eLlMsiep9Lrw"
      },
      "outputs": [],
      "source": [
        "#80% ==> training\n",
        "#20% ==> 10% validation, 10% test"
      ]
    },
    {
      "cell_type": "code",
      "execution_count": null,
      "metadata": {
        "id": "8_szzDhh_TNN"
      },
      "outputs": [],
      "source": [
        "def ds_split(ds,train_split=0.8,val_split=0.1,test_split=0.1,shuffle=True,shuffle_size=10000):\n",
        "  if shuffle:\n",
        "    ds = ds.shuffle(shuffle_size,seed=12)\n",
        "\n",
        "  train_size = int(train_split * len(ds))\n",
        "  val_size = int(val_split * len(ds))\n",
        "\n",
        "\n",
        "  train_ds = ds.take(train_size)\n",
        "  val_ds = ds.skip(train_size).take(val_size)\n",
        "  test_ds = ds.skip(train_size).skip(val_size)\n",
        "\n",
        "  return train_ds,val_ds,test_ds"
      ]
    },
    {
      "cell_type": "code",
      "execution_count": null,
      "metadata": {
        "id": "5qt6jDBjte_8"
      },
      "outputs": [],
      "source": [
        "train_ds,val_ds,test_ds = ds_split(dataset)"
      ]
    },
    {
      "cell_type": "code",
      "execution_count": null,
      "metadata": {
        "colab": {
          "base_uri": "https://localhost:8080/"
        },
        "id": "of7mKPu3thjo",
        "outputId": "c8a875f3-c8a5-4a45-9779-c6e393b506c5"
      },
      "outputs": [
        {
          "data": {
            "text/plain": [
              "(54, 6, 8)"
            ]
          },
          "execution_count": 19,
          "metadata": {},
          "output_type": "execute_result"
        }
      ],
      "source": [
        "len(train_ds),len(val_ds),len(test_ds)"
      ]
    },
    {
      "cell_type": "code",
      "execution_count": null,
      "metadata": {
        "id": "9tRgEmyrtjLx"
      },
      "outputs": [],
      "source": [
        "resize_and_rescale = tf.keras.Sequential([\n",
        "    layers.experimental.preprocessing.Resizing(IMAGE_SIZE,IMAGE_SIZE,),\n",
        "    layers.experimental.preprocessing.Rescaling(1.0/255)\n",
        "])"
      ]
    },
    {
      "cell_type": "code",
      "execution_count": null,
      "metadata": {
        "id": "UZni3YT8uWQZ"
      },
      "outputs": [],
      "source": [
        "data_augmentation = tf.keras.Sequential([\n",
        "    layers.experimental.preprocessing.RandomFlip(\"horizontal_and_vertical\"),\n",
        "    layers.experimental.preprocessing.RandomRotation(0.2)\n",
        "])"
      ]
    },
    {
      "cell_type": "markdown",
      "metadata": {
        "id": "PhNBTYc1ulUK"
      },
      "source": [
        "**MODEL**"
      ]
    },
    {
      "cell_type": "code",
      "execution_count": null,
      "metadata": {
        "id": "SPZjukFmudDK"
      },
      "outputs": [],
      "source": [
        "input_shape = (BATCH_SIZE,IMAGE_SIZE,IMAGE_SIZE,CHANNELS)\n",
        "n_classes = 3\n",
        "\n",
        "model = models.Sequential([\n",
        "    resize_and_rescale,\n",
        "    data_augmentation,\n",
        "    layers.Conv2D(32,(3,3),activation=\"relu\",input_shape=input_shape),\n",
        "    layers.MaxPooling2D((2,2)),\n",
        "    layers.Conv2D(64,kernel_size = (3,3),activation=\"relu\"),\n",
        "    layers.MaxPooling2D((2,2)),\n",
        "    layers.Conv2D(64,(3,3),activation=\"relu\"),\n",
        "    layers.MaxPooling2D((2,2)),\n",
        "    layers.Conv2D(64,(3,3),activation=\"relu\"),\n",
        "    layers.MaxPooling2D((2,2)),\n",
        "    layers.Conv2D(64,(3,3),activation=\"relu\"),\n",
        "    layers.MaxPooling2D((2,2)),\n",
        "    layers.Conv2D(64,(3,3),activation=\"relu\"),\n",
        "    layers.MaxPooling2D((2,2)),\n",
        "    layers.Flatten(),\n",
        "    layers.Dense(64, activation = 'relu'),\n",
        "    layers.Dense(n_classes, activation = 'softmax')\n",
        "\n",
        "])\n",
        "\n",
        "model.build(input_shape = input_shape)"
      ]
    },
    {
      "cell_type": "code",
      "execution_count": null,
      "metadata": {
        "colab": {
          "base_uri": "https://localhost:8080/"
        },
        "id": "wWEMvU6hvRw2",
        "outputId": "5ffa03c3-22bf-4ce5-b42a-a6a33af6b38d"
      },
      "outputs": [
        {
          "name": "stdout",
          "output_type": "stream",
          "text": [
            "Model: \"sequential_8\"\n",
            "_________________________________________________________________\n",
            " Layer (type)                Output Shape              Param #   \n",
            "=================================================================\n",
            " sequential_5 (Sequential)   (32, 256, 256, 3)         0         \n",
            "                                                                 \n",
            " sequential_6 (Sequential)   (32, 256, 256, 3)         0         \n",
            "                                                                 \n",
            " conv2d_24 (Conv2D)          (32, 254, 254, 32)        896       \n",
            "                                                                 \n",
            " max_pooling2d_24 (MaxPooli  (32, 127, 127, 32)        0         \n",
            " ng2D)                                                           \n",
            "                                                                 \n",
            " conv2d_25 (Conv2D)          (32, 125, 125, 64)        18496     \n",
            "                                                                 \n",
            " max_pooling2d_25 (MaxPooli  (32, 62, 62, 64)          0         \n",
            " ng2D)                                                           \n",
            "                                                                 \n",
            " conv2d_26 (Conv2D)          (32, 60, 60, 64)          36928     \n",
            "                                                                 \n",
            " max_pooling2d_26 (MaxPooli  (32, 30, 30, 64)          0         \n",
            " ng2D)                                                           \n",
            "                                                                 \n",
            " conv2d_27 (Conv2D)          (32, 28, 28, 64)          36928     \n",
            "                                                                 \n",
            " max_pooling2d_27 (MaxPooli  (32, 14, 14, 64)          0         \n",
            " ng2D)                                                           \n",
            "                                                                 \n",
            " conv2d_28 (Conv2D)          (32, 12, 12, 64)          36928     \n",
            "                                                                 \n",
            " max_pooling2d_28 (MaxPooli  (32, 6, 6, 64)            0         \n",
            " ng2D)                                                           \n",
            "                                                                 \n",
            " conv2d_29 (Conv2D)          (32, 4, 4, 64)            36928     \n",
            "                                                                 \n",
            " max_pooling2d_29 (MaxPooli  (32, 2, 2, 64)            0         \n",
            " ng2D)                                                           \n",
            "                                                                 \n",
            " flatten (Flatten)           (32, 256)                 0         \n",
            "                                                                 \n",
            " dense_8 (Dense)             (32, 64)                  16448     \n",
            "                                                                 \n",
            " dense_9 (Dense)             (32, 3)                   195       \n",
            "                                                                 \n",
            "=================================================================\n",
            "Total params: 183747 (717.76 KB)\n",
            "Trainable params: 183747 (717.76 KB)\n",
            "Non-trainable params: 0 (0.00 Byte)\n",
            "_________________________________________________________________\n"
          ]
        }
      ],
      "source": [
        "model.summary()"
      ]
    },
    {
      "cell_type": "code",
      "execution_count": null,
      "metadata": {
        "id": "je2MKXZ5wSN5"
      },
      "outputs": [],
      "source": [
        "model.compile(\n",
        "    optimizer = 'adam',\n",
        "    loss = tf.keras.losses.SparseCategoricalCrossentropy(from_logits=False),\n",
        "    metrics = ['accuracy']\n",
        "\n",
        ")"
      ]
    },
    {
      "cell_type": "code",
      "execution_count": null,
      "metadata": {
        "colab": {
          "background_save": true,
          "base_uri": "https://localhost:8080/"
        },
        "id": "628Y63c2wmcH",
        "outputId": "17d77b45-82ac-4a5c-f5a3-bbf906b87a55"
      },
      "outputs": [
        {
          "name": "stdout",
          "output_type": "stream",
          "text": [
            "Epoch 1/50\n",
            "54/54 [==============================] - 228s 4s/step - loss: 0.9281 - accuracy: 0.4519 - val_loss: 0.8718 - val_accuracy: 0.4531\n",
            "Epoch 2/50\n",
            "54/54 [==============================] - 211s 4s/step - loss: 0.7185 - accuracy: 0.6755 - val_loss: 0.5042 - val_accuracy: 0.7798\n",
            "Epoch 3/50\n",
            "54/54 [==============================] - 223s 4s/step - loss: 0.4327 - accuracy: 0.8212 - val_loss: 0.3910 - val_accuracy: 0.8385\n",
            "Epoch 4/50\n",
            "54/54 [==============================] - 210s 4s/step - loss: 0.3251 - accuracy: 0.8609 - val_loss: 0.6403 - val_accuracy: 0.7865\n",
            "Epoch 5/50\n",
            "54/54 [==============================] - 214s 4s/step - loss: 0.3042 - accuracy: 0.8791 - val_loss: 0.3347 - val_accuracy: 0.8646\n",
            "Epoch 6/50\n",
            "54/54 [==============================] - 219s 4s/step - loss: 0.2560 - accuracy: 0.8955 - val_loss: 0.2463 - val_accuracy: 0.9115\n",
            "Epoch 7/50\n",
            "54/54 [==============================] - 209s 4s/step - loss: 0.2423 - accuracy: 0.9014 - val_loss: 0.1792 - val_accuracy: 0.9271\n",
            "Epoch 8/50\n",
            "54/54 [==============================] - 209s 4s/step - loss: 0.1977 - accuracy: 0.9161 - val_loss: 0.2109 - val_accuracy: 0.9219\n",
            "Epoch 9/50\n",
            "54/54 [==============================] - 213s 4s/step - loss: 0.2146 - accuracy: 0.9137 - val_loss: 0.1759 - val_accuracy: 0.9323\n",
            "Epoch 10/50\n",
            "54/54 [==============================] - 208s 4s/step - loss: 0.1476 - accuracy: 0.9419 - val_loss: 0.1188 - val_accuracy: 0.9427\n",
            "Epoch 11/50\n",
            "54/54 [==============================] - 208s 4s/step - loss: 0.1976 - accuracy: 0.9208 - val_loss: 0.0812 - val_accuracy: 0.9688\n",
            "Epoch 12/50\n",
            "54/54 [==============================] - 211s 4s/step - loss: 0.1511 - accuracy: 0.9390 - val_loss: 0.1740 - val_accuracy: 0.9479\n",
            "Epoch 13/50\n",
            "54/54 [==============================] - 208s 4s/step - loss: 0.1210 - accuracy: 0.9560 - val_loss: 0.1626 - val_accuracy: 0.9271\n",
            "Epoch 14/50\n",
            "54/54 [==============================] - 208s 4s/step - loss: 0.1548 - accuracy: 0.9431 - val_loss: 0.1159 - val_accuracy: 0.9375\n",
            "Epoch 15/50\n",
            "54/54 [==============================] - 207s 4s/step - loss: 0.1180 - accuracy: 0.9572 - val_loss: 0.1806 - val_accuracy: 0.9167\n",
            "Epoch 16/50\n",
            "54/54 [==============================] - 212s 4s/step - loss: 0.1578 - accuracy: 0.9360 - val_loss: 0.2505 - val_accuracy: 0.8646\n",
            "Epoch 17/50\n",
            "54/54 [==============================] - 207s 4s/step - loss: 0.1301 - accuracy: 0.9495 - val_loss: 0.1758 - val_accuracy: 0.9271\n",
            "Epoch 18/50\n",
            "54/54 [==============================] - 208s 4s/step - loss: 0.0980 - accuracy: 0.9689 - val_loss: 0.1230 - val_accuracy: 0.9635\n",
            "Epoch 19/50\n",
            "54/54 [==============================] - 214s 4s/step - loss: 0.1049 - accuracy: 0.9619 - val_loss: 0.2485 - val_accuracy: 0.9107\n",
            "Epoch 20/50\n",
            "54/54 [==============================] - 208s 4s/step - loss: 0.0824 - accuracy: 0.9689 - val_loss: 0.1829 - val_accuracy: 0.9479\n",
            "Epoch 21/50\n",
            "54/54 [==============================] - 209s 4s/step - loss: 0.0636 - accuracy: 0.9728 - val_loss: 0.5133 - val_accuracy: 0.8281\n",
            "Epoch 22/50\n",
            "54/54 [==============================] - 216s 4s/step - loss: 0.1170 - accuracy: 0.9583 - val_loss: 0.1868 - val_accuracy: 0.9375\n",
            "Epoch 23/50\n",
            "54/54 [==============================] - 207s 4s/step - loss: 0.0864 - accuracy: 0.9701 - val_loss: 0.1520 - val_accuracy: 0.9479\n",
            "Epoch 24/50\n",
            "54/54 [==============================] - 206s 4s/step - loss: 0.0527 - accuracy: 0.9830 - val_loss: 0.2482 - val_accuracy: 0.9219\n",
            "Epoch 25/50\n",
            "54/54 [==============================] - 214s 4s/step - loss: 0.0567 - accuracy: 0.9800 - val_loss: 0.0939 - val_accuracy: 0.9740\n",
            "Epoch 26/50\n",
            "54/54 [==============================] - 210s 4s/step - loss: 0.0441 - accuracy: 0.9815 - val_loss: 0.1967 - val_accuracy: 0.9427\n",
            "Epoch 27/50\n",
            "54/54 [==============================] - 210s 4s/step - loss: 0.0458 - accuracy: 0.9832 - val_loss: 0.0650 - val_accuracy: 0.9792\n",
            "Epoch 28/50\n",
            "54/54 [==============================] - 210s 4s/step - loss: 0.0354 - accuracy: 0.9859 - val_loss: 0.0682 - val_accuracy: 0.9702\n",
            "Epoch 29/50\n",
            "54/54 [==============================] - 212s 4s/step - loss: 0.0521 - accuracy: 0.9821 - val_loss: 0.3046 - val_accuracy: 0.8906\n",
            "Epoch 30/50\n",
            "54/54 [==============================] - 209s 4s/step - loss: 0.0642 - accuracy: 0.9742 - val_loss: 0.1390 - val_accuracy: 0.9375\n",
            "Epoch 31/50\n",
            "54/54 [==============================] - 210s 4s/step - loss: 0.0632 - accuracy: 0.9783 - val_loss: 0.0461 - val_accuracy: 0.9792\n",
            "Epoch 32/50\n",
            "54/54 [==============================] - 211s 4s/step - loss: 0.0390 - accuracy: 0.9861 - val_loss: 0.0849 - val_accuracy: 0.9740\n",
            "Epoch 33/50\n",
            "54/54 [==============================] - 208s 4s/step - loss: 0.0557 - accuracy: 0.9836 - val_loss: 0.0662 - val_accuracy: 0.9740\n",
            "Epoch 34/50\n",
            "54/54 [==============================] - 212s 4s/step - loss: 0.0409 - accuracy: 0.9902 - val_loss: 0.0840 - val_accuracy: 0.9792\n",
            "Epoch 35/50\n",
            "54/54 [==============================] - 208s 4s/step - loss: 0.0504 - accuracy: 0.9818 - val_loss: 0.1838 - val_accuracy: 0.9271\n",
            "Epoch 36/50\n",
            "54/54 [==============================] - 208s 4s/step - loss: 0.0332 - accuracy: 0.9894 - val_loss: 0.1135 - val_accuracy: 0.9821\n",
            "Epoch 37/50\n",
            "54/54 [==============================] - 219s 4s/step - loss: 0.0383 - accuracy: 0.9894 - val_loss: 0.0430 - val_accuracy: 0.9792\n",
            "Epoch 38/50\n",
            "54/54 [==============================] - 211s 4s/step - loss: 0.0280 - accuracy: 0.9913 - val_loss: 0.0343 - val_accuracy: 0.9896\n",
            "Epoch 39/50\n",
            "54/54 [==============================] - 213s 4s/step - loss: 0.0590 - accuracy: 0.9780 - val_loss: 0.0575 - val_accuracy: 0.9635\n",
            "Epoch 40/50\n",
            "54/54 [==============================] - 216s 4s/step - loss: 0.0300 - accuracy: 0.9918 - val_loss: 0.0336 - val_accuracy: 0.9948\n",
            "Epoch 41/50\n",
            "54/54 [==============================] - 208s 4s/step - loss: 0.0263 - accuracy: 0.9930 - val_loss: 0.0647 - val_accuracy: 0.9688\n",
            "Epoch 42/50\n",
            "54/54 [==============================] - 213s 4s/step - loss: 0.0321 - accuracy: 0.9906 - val_loss: 0.1655 - val_accuracy: 0.9323\n",
            "Epoch 43/50\n",
            "54/54 [==============================] - 210s 4s/step - loss: 0.0323 - accuracy: 0.9912 - val_loss: 0.0906 - val_accuracy: 0.9583\n",
            "Epoch 44/50\n",
            "54/54 [==============================] - 207s 4s/step - loss: 0.0681 - accuracy: 0.9800 - val_loss: 0.1964 - val_accuracy: 0.9286\n",
            "Epoch 45/50\n",
            "54/54 [==============================] - 213s 4s/step - loss: 0.0628 - accuracy: 0.9800 - val_loss: 0.0731 - val_accuracy: 0.9896\n",
            "Epoch 46/50\n",
            "54/54 [==============================] - 206s 4s/step - loss: 0.0385 - accuracy: 0.9906 - val_loss: 0.5534 - val_accuracy: 0.8571\n",
            "Epoch 47/50\n",
            "54/54 [==============================] - 222s 4s/step - loss: 0.0390 - accuracy: 0.9861 - val_loss: 0.0143 - val_accuracy: 1.0000\n",
            "Epoch 48/50\n",
            "54/54 [==============================] - 207s 4s/step - loss: 0.0391 - accuracy: 0.9877 - val_loss: 0.0861 - val_accuracy: 0.9688\n",
            "Epoch 49/50\n",
            "54/54 [==============================] - 206s 4s/step - loss: 0.0364 - accuracy: 0.9883 - val_loss: 0.0498 - val_accuracy: 0.9896\n",
            "Epoch 50/50\n",
            "54/54 [==============================] - 215s 4s/step - loss: 0.0277 - accuracy: 0.9900 - val_loss: 0.0615 - val_accuracy: 0.9740\n"
          ]
        }
      ],
      "source": [
        "history = model.fit(\n",
        "    train_ds,\n",
        "    epochs = EPOCHS,\n",
        "    batch_size = BATCH_SIZE,\n",
        "    verbose = 1,\n",
        "    validation_data = val_ds\n",
        ")"
      ]
    },
    {
      "cell_type": "code",
      "execution_count": null,
      "metadata": {
        "id": "b19Qh4QKxHlm"
      },
      "outputs": [],
      "source": [
        "model.save(\"model.keras\")"
      ]
    },
    {
      "cell_type": "code",
      "source": [
        "scores = model.evaluate(test_ds)\n",
        "scores"
      ],
      "metadata": {
        "id": "LmZv9WbrD5Dv"
      },
      "execution_count": null,
      "outputs": []
    },
    {
      "cell_type": "code",
      "source": [
        "acc = history.history['accuracy']\n",
        "loss = history.history['loss']\n",
        "val_acc = history.history['val_accuracy']\n",
        "val_loss = history.history['val_loss']"
      ],
      "metadata": {
        "id": "YnzfzmjnD9uA"
      },
      "execution_count": null,
      "outputs": []
    },
    {
      "cell_type": "code",
      "source": [
        "EPOCHS = 5\n",
        "plt.figure(figsize = (8,8))\n",
        "plt.subplot(1,2,1)\n",
        "plt.plot(range(EPOCHS), acc, label = 'Training accuracy')\n",
        "plt.plot(range(EPOCHS), val_acc, label = 'Validation accuracy')\n",
        "plt.legend(loc = 'lower right')\n",
        "plt.title('Training and Validation Accuracy')"
      ],
      "metadata": {
        "id": "7LCQNwlxD_o5"
      },
      "execution_count": null,
      "outputs": []
    },
    {
      "cell_type": "code",
      "source": [
        "import numpy as np\n",
        "for image_batch,label_batch in test_ds.take(1):\n",
        "    first_image = images_batch[0].numpy().astype(\"uint8\")\n",
        "    first_label = labels_batch[0].numpy()\n",
        "    print(\"first image to print\")\n",
        "    plt.imshow(first_image)\n",
        "    print(\"actual label is:\",class_name[first_label])\n",
        "    batch_prediction = model.predict(images_batch)\n",
        "    print(\"predicted_label is:\",class_name[np.argmax(batch_prediction[0])])"
      ],
      "metadata": {
        "id": "4lONr3yOEBVh"
      },
      "execution_count": null,
      "outputs": []
    }
  ],
  "metadata": {
    "colab": {
      "provenance": [],
      "mount_file_id": "1sPeTmIWYWL5HApBgFnKDHushJvDmE9yT",
      "authorship_tag": "ABX9TyPKh0Aehh7XbEDNPWGlPjjK",
      "include_colab_link": true
    },
    "kernelspec": {
      "display_name": "Python 3",
      "name": "python3"
    },
    "language_info": {
      "name": "python"
    }
  },
  "nbformat": 4,
  "nbformat_minor": 0
}